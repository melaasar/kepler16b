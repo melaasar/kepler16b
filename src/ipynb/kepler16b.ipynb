{
 "cells": [
  {
   "cell_type": "markdown",
   "metadata": {},
   "source": [
    "## Import required libraries"
   ]
  },
  {
   "cell_type": "code",
   "execution_count": 1,
   "metadata": {},
   "outputs": [],
   "source": [
    "# importing  all the functions defined in project_functions.py\n",
    "from lib.project_functions import *\n",
    "\n",
    "from IPython.display import HTML\n",
    "\n",
    "import json\n",
    "import pandas as pd"
   ]
  },
  {
   "cell_type": "markdown",
   "metadata": {},
   "source": [
    "# Objectives\n",
    "\n",
    "The Kepler16b project is pursuing multiple objectives shown in the table below:"
   ]
  },
  {
   "cell_type": "code",
   "execution_count": 2,
   "metadata": {},
   "outputs": [
    {
     "ename": "FileNotFoundError",
     "evalue": "[Errno 2] No such file or directory: '../../build/json/objectives1.json'",
     "output_type": "error",
     "traceback": [
      "\u001b[0;31m---------------------------------------------------------------------------\u001b[0m",
      "\u001b[0;31mFileNotFoundError\u001b[0m                         Traceback (most recent call last)",
      "Cell \u001b[0;32mIn[2], line 1\u001b[0m\n\u001b[0;32m----> 1\u001b[0m f \u001b[39m=\u001b[39m \u001b[39mopen\u001b[39;49m(\u001b[39m\"\u001b[39;49m\u001b[39m../../build/json/objectives1.json\u001b[39;49m\u001b[39m\"\u001b[39;49m)\n\u001b[1;32m      2\u001b[0m data \u001b[39m=\u001b[39m json\u001b[39m.\u001b[39mload(f)\n\u001b[1;32m      3\u001b[0m results \u001b[39m=\u001b[39m data[\u001b[39m'\u001b[39m\u001b[39mresults\u001b[39m\u001b[39m'\u001b[39m][\u001b[39m'\u001b[39m\u001b[39mbindings\u001b[39m\u001b[39m'\u001b[39m]\n",
      "File \u001b[0;32m~/git/opencaesar/kepler16b/.venv/lib/python3.11/site-packages/IPython/core/interactiveshell.py:282\u001b[0m, in \u001b[0;36m_modified_open\u001b[0;34m(file, *args, **kwargs)\u001b[0m\n\u001b[1;32m    275\u001b[0m \u001b[39mif\u001b[39;00m file \u001b[39min\u001b[39;00m {\u001b[39m0\u001b[39m, \u001b[39m1\u001b[39m, \u001b[39m2\u001b[39m}:\n\u001b[1;32m    276\u001b[0m     \u001b[39mraise\u001b[39;00m \u001b[39mValueError\u001b[39;00m(\n\u001b[1;32m    277\u001b[0m         \u001b[39mf\u001b[39m\u001b[39m\"\u001b[39m\u001b[39mIPython won\u001b[39m\u001b[39m'\u001b[39m\u001b[39mt let you open fd=\u001b[39m\u001b[39m{\u001b[39;00mfile\u001b[39m}\u001b[39;00m\u001b[39m by default \u001b[39m\u001b[39m\"\u001b[39m\n\u001b[1;32m    278\u001b[0m         \u001b[39m\"\u001b[39m\u001b[39mas it is likely to crash IPython. If you know what you are doing, \u001b[39m\u001b[39m\"\u001b[39m\n\u001b[1;32m    279\u001b[0m         \u001b[39m\"\u001b[39m\u001b[39myou can use builtins\u001b[39m\u001b[39m'\u001b[39m\u001b[39m open.\u001b[39m\u001b[39m\"\u001b[39m\n\u001b[1;32m    280\u001b[0m     )\n\u001b[0;32m--> 282\u001b[0m \u001b[39mreturn\u001b[39;00m io_open(file, \u001b[39m*\u001b[39;49margs, \u001b[39m*\u001b[39;49m\u001b[39m*\u001b[39;49mkwargs)\n",
      "\u001b[0;31mFileNotFoundError\u001b[0m: [Errno 2] No such file or directory: '../../build/json/objectives1.json'"
     ]
    }
   ],
   "source": [
    "f = open(\"../../build/json/objectives1.json\")\n",
    "data = json.load(f)\n",
    "results = data['results']['bindings']\n",
    "vars_list = data[\"head\"][\"vars\"]\n",
    "df = pd.DataFrame(results)\n",
    "df = df[vars_list]\n",
    "\n",
    "# Extract the \"value\" field from each column\n",
    "df = df.applymap(lambda x: x[\"value\"])\n",
    "\n",
    "display(df)"
   ]
  },
  {
   "cell_type": "markdown",
   "metadata": {},
   "source": [
    "Those objectives aggregate each other as depicted in the graph below."
   ]
  },
  {
   "cell_type": "code",
   "execution_count": null,
   "metadata": {},
   "outputs": [
    {
     "data": {
      "image/png": "[encoded data removed]",
      "text/plain": [
       "<Figure size 500x300 with 1 Axes>"
      ]
     },
     "metadata": {},
     "output_type": "display_data"
    }
   ],
   "source": [
    "f = open(\"../../build/json/objectives2.json\")\n",
    "data = json.load(f)\n",
    "results = data['results']['bindings']\n",
    "vars_list = data[\"head\"][\"vars\"]\n",
    "df = pd.DataFrame(results)\n",
    "df = df[vars_list]\n",
    "\n",
    "# Extract the \"value\" field from each column\n",
    "df = df.applymap(lambda x: x[\"value\"])\n",
    "\n",
    "draw_graph(df)"
   ]
  },
  {
   "cell_type": "markdown",
   "metadata": {},
   "source": [
    "# Missions\n",
    "\n",
    "ُThe Kepler16b project delivers the following missions, each of which pursues a subset of the objectives above."
   ]
  },
  {
   "cell_type": "code",
   "execution_count": null,
   "metadata": {},
   "outputs": [
    {
     "data": {
      "application/vnd.jupyter.widget-view+json": {
       "model_id": "839917440f63475ba42c570a13460cb0",
       "version_major": 2,
       "version_minor": 0
      },
      "text/plain": [
       "Tree(multiple_selection=False, nodes=(Node(name='Mission 1', nodes=(Node(name='Example 1'), Node(name='Example…"
      ]
     },
     "execution_count": 11,
     "metadata": {},
     "output_type": "execute_result"
    }
   ],
   "source": [
    "f = open(\"../../build/json/missions2.json\")\n",
    "data = json.load(f)\n",
    "# draw_tree(data)\n",
    "from ipytree import Tree, Node\n",
    "tree = Tree(stripes=True)\n",
    "node1 = Node('node1')\n",
    "tree.add_node(node1)\n",
    "node2 = Node('node2')\n",
    "tree.add_node(node2)\n",
    "tree.nodes = [node2, node1]\n",
    "node3 = Node('node3', disabled=True)\n",
    "node4 = Node('node4')\n",
    "node5 = Node('Mission 1', [Node('Example 1'), Node('Example 2')])\n",
    "node2.add_node(node3)\n",
    "node2.add_node(node4)\n",
    "node2.add_node(node5)\n",
    "tree.add_node(Node('node6'), 1)\n",
    "node2.add_node(Node('node7'), 2)\n",
    "def handle_click(event):\n",
    "    event['owner'].name = 'I am selected!!!' if event['new'] else 'I am not selected...' \n",
    "\n",
    "node4.observe(handle_click, 'selected')\n",
    "node4.selected = True\n",
    "subset = Tree([node5], multiple_selection=False)\n",
    "subset"
   ]
  },
  {
   "cell_type": "markdown",
   "metadata": {},
   "source": [
    "# Components\n",
    "Each of the Kelper16 missions deploy a number of important components as shown below."
   ]
  },
  {
   "cell_type": "code",
   "execution_count": null,
   "metadata": {},
   "outputs": [
    {
     "data": {
      "text/markdown": [
       "<details>\n",
       "      <summary>Your header here! (Click to expand)</summary>\n",
       "      Your content here...</br>\n",
       "      (markup only where supported)</br>\n",
       "      more content here...</br>\n",
       "    </details>"
      ],
      "text/plain": [
       "<IPython.core.display.Markdown object>"
      ]
     },
     "metadata": {},
     "output_type": "display_data"
    }
   ],
   "source": [
    "from IPython.display import Image, display, Markdown\n",
    "\n",
    "# Display the image and title\n",
    "display(Markdown(\"\"\"<details>\n",
    "      <summary>Your header here! (Click to expand)</summary>\n",
    "      Your content here...</br>\n",
    "      (markup only where supported)</br>\n",
    "      more content here...</br>\n",
    "    </details>\"\"\"))"
   ]
  },
  {
   "cell_type": "code",
   "execution_count": null,
   "metadata": {},
   "outputs": [
    {
     "ename": "SyntaxError",
     "evalue": "invalid character 'ُ' (U+064F) (1450491127.py, line 19)",
     "output_type": "error",
     "traceback": [
      "\u001b[0;36m  Cell \u001b[0;32mIn[13], line 19\u001b[0;36m\u001b[0m\n\u001b[0;31m    ُThe Kepler16b project delivers the following missions, each of which pursues a subset of the objectives above.\u001b[0m\n\u001b[0m    ^\u001b[0m\n\u001b[0;31mSyntaxError\u001b[0m\u001b[0;31m:\u001b[0m invalid character 'ُ' (U+064F)\n"
     ]
    }
   ],
   "source": [
    "# Objectives # {#Objectives}\n",
    "\n",
    "The Kepler16b project is pursuing multiple objectives shown in the table below AAA.\n",
    "\n",
    "<div id='figure1'></div>\n",
    "<script type=\"text/javascript\" src=\"json/objectives1.json\"></script>\n",
    "<script>tabulate(data, '#figure1');</script>\n",
    "<figcaption>Kepler16b Objectives</figcaption>\n",
    "\n",
    "Those objectives aggregate each other as depicted in the graph below.\n",
    "\n",
    "<div id='figure2'></div>\n",
    "<script type=\"text/javascript\" src=\"json/objectives2.json\"></script>    \n",
    "<script>drawGraph(data, '#figure2', 500, 200)</script>\n",
    "<figcaption>Kepler16b Objective Aggregation</figcaption>\n",
    "\n",
    "# Missions # {#Missions}\n",
    "\n",
    "ُThe Kepler16b project delivers the following missions, each of which pursues a subset of the objectives above.\n",
    "\n",
    "<div id='figure3'></div>\n",
    "<script type=\"text/javascript\" src=\"json/missions2.json\"></script>\n",
    "<script>drawTree(data, '#figure3', \"Missions\", false, 960, 300, 150)</script>\n",
    "<figcaption>Kepler16b Missions Pursuing Objectives</figcaption>\n",
    "\n",
    "# Components # {#Components}\n",
    "\n",
    "Each of the Kelper16 missions deploy a number of important components as shown below.\n",
    "\n",
    "<div id='figure4'></div>\n",
    "<script type=\"text/javascript\" src=\"json/components2.json\"></script>\n",
    "<script>treeTable(data, '#figure4')</script>\n",
    "\n",
    "Those components have the following physical decomposition.\n",
    "\n",
    "<div id='figure5'></div>\n",
    "<script type=\"text/javascript\" src=\"json/components1.json\"></script>\n",
    "<script>drawTree(data, '#figure5', \"Components\", true, 960, 350, 250)</script>\n",
    "<figcaption>Kepler16b Component Decomposition</figcaption>\n",
    "\n",
    "# Masses # {#Masses}\n",
    "\n",
    "The Kepler16b components have the following mass characterizations in (kg) rolled up for each composite component.\n",
    "\n",
    "<div id='figure6'></div>\n",
    "<script type=\"text/javascript\" src=\"json/masses.json\"></script>\n",
    "<script>drawTree(rollup(data, [\"c1_id\", \"c1_fullname\", \"c2_id\", \"c2_fullname\", \"c1_mass\"]), '#figure6', \"Mass Rollup\", true, 960, 350, 250)</script>\n",
    "<figcaption>Kepler16b Mass Characterization and Rollup</figcaption>\n",
    "\n",
    "# Interfaces # {#Interfaces}\n",
    "\n",
    "Several of Kepler16b components present interfaces as follows.\n",
    "\n",
    "<div id='figure7'></div>\n",
    "<script type=\"text/javascript\" src=\"json/interfaces.json\"></script>\n",
    "<script>treeTable(data, '#figure7')</script>\n",
    "\n",
    "# Junctions # {#Junctions}\n",
    "\n",
    "The Kepler16b components' interfaces are joined together with the following junctions.\n",
    "\n",
    "<div id='figure8'></div>\n",
    "<script type=\"text/javascript\" src=\"json/junctions.json\"></script>\n",
    "<script>tabulate(data, '#figure8')</script>\n",
    "\n",
    "# Requirements # {#Requirements}\n",
    "\n",
    "The Kepler16b project specifies the following requirements.\n",
    "\n",
    "<div id='figure9'></div>\n",
    "<script type=\"text/javascript\" src=\"json/requirements1.json\"></script>\n",
    "<script>tabulate(data, '#figure9')</script>\n",
    "\n",
    "Some of the requirements specify that some components shall present interfaces as follows.\n",
    "\n",
    "<div id='figure10'></div>\n",
    "<script type=\"text/javascript\" src=\"json/requirements2.json\"></script>\n",
    "<script>tabulate(data, '#figure10')</script>\n",
    "\n",
    "Some of the requirements refine others as follows.\n",
    "\n",
    "<div id='figure11'></div>\n",
    "<script type=\"text/javascript\" src=\"json/requirements3.json\"></script>\n",
    "<script>drawGraph(data, '#figure11', 500, 300)</script>\n",
    "<figcaption>Kepler16b Requirement Refinement</figcaption>\n"
   ]
  },
  {
   "cell_type": "markdown",
   "metadata": {},
   "source": [
    "# Objectives # {#Objectives}\n",
    "\n",
    "The Kepler16b project is pursuing multiple objectives shown in the table below AAA.\n",
    "\n",
    "<div id='figure1'></div>\n",
    "<script type=\"text/javascript\" src=\"json/objectives1.json\"></script>\n",
    "<script>tabulate(data, '#figure1');</script>\n",
    "<figcaption>Kepler16b Objectives</figcaption>\n",
    "\n",
    "Those objectives aggregate each other as depicted in the graph below.\n",
    "\n",
    "<div id='figure2'></div>\n",
    "<script type=\"text/javascript\" src=\"json/objectives2.json\"></script>\n",
    "<script>drawGraph(data, '#figure2', 500, 200)</script>\n",
    "<figcaption>Kepler16b Objective Aggregation</figcaption>\n",
    "\n",
    "# Missions # {#Missions}\n",
    "\n",
    "ُThe Kepler16b project delivers the following missions, each of which pursues a subset of the objectives above.\n",
    "\n",
    "<div id='figure3'></div>\n",
    "<script type=\"text/javascript\" src=\"json/missions2.json\"></script>\n",
    "<script>drawTree(data, '#figure3', \"Missions\", false, 960, 300, 150)</script>\n",
    "<figcaption>Kepler16b Missions Pursuing Objectives</figcaption>\n",
    "\n",
    "# Components # {#Components}\n",
    "\n",
    "Each of the Kelper16 missions deploy a number of important components as shown below.\n",
    "\n",
    "<div id='figure4'></div>\n",
    "<script type=\"text/javascript\" src=\"json/components2.json\"></script>\n",
    "<script>treeTable(data, '#figure4')</script>\n",
    "\n",
    "Those components have the following physical decomposition.\n",
    "\n",
    "<div id='figure5'></div>\n",
    "<script type=\"text/javascript\" src=\"json/components1.json\"></script>\n",
    "<script>drawTree(data, '#figure5', \"Components\", true, 960, 350, 250)</script>\n",
    "<figcaption>Kepler16b Component Decomposition</figcaption>\n",
    "\n",
    "# Masses # {#Masses}\n",
    "\n",
    "The Kepler16b components have the following mass characterizations in (kg) rolled up for each composite component.\n",
    "\n",
    "<div id='figure6'></div>\n",
    "<script type=\"text/javascript\" src=\"json/masses.json\"></script>\n",
    "<script>drawTree(rollup(data, [\"c1_id\", \"c1_fullname\", \"c2_id\", \"c2_fullname\", \"c1_mass\"]), '#figure6', \"Mass Rollup\", true, 960, 350, 250)</script>\n",
    "<figcaption>Kepler16b Mass Characterization and Rollup</figcaption>\n",
    "\n",
    "# Interfaces # {#Interfaces}\n",
    "\n",
    "Several of Kepler16b components present interfaces as follows.\n",
    "\n",
    "<div id='figure7'></div>\n",
    "<script type=\"text/javascript\" src=\"json/interfaces.json\"></script>\n",
    "<script>treeTable(data, '#figure7')</script>\n",
    "\n",
    "# Junctions # {#Junctions}\n",
    "\n",
    "The Kepler16b components' interfaces are joined together with the following junctions.\n",
    "\n",
    "<div id='figure8'></div>\n",
    "<script type=\"text/javascript\" src=\"json/junctions.json\"></script>\n",
    "<script>tabulate(data, '#figure8')</script>\n",
    "\n",
    "# Requirements # {#Requirements}\n",
    "\n",
    "The Kepler16b project specifies the following requirements.\n",
    "\n",
    "<div id='figure9'></div>\n",
    "<script type=\"text/javascript\" src=\"json/requirements1.json\"></script>\n",
    "<script>tabulate(data, '#figure9')</script>\n",
    "\n",
    "Some of the requirements specify that some components shall present interfaces as follows.\n",
    "\n",
    "<div id='figure10'></div>\n",
    "<script type=\"text/javascript\" src=\"json/requirements2.json\"></script>\n",
    "<script>tabulate(data, '#figure10')</script>\n",
    "\n",
    "Some of the requirements refine others as follows.\n",
    "\n",
    "<div id='figure11'></div>\n",
    "<script type=\"text/javascript\" src=\"json/requirements3.json\"></script>\n",
    "<script>drawGraph(data, '#figure11', 500, 300)</script>\n",
    "<figcaption>Kepler16b Requirement Refinement</figcaption>\n"
   ]
  },
  {
   "attachments": {},
   "cell_type": "markdown",
   "metadata": {},
   "source": [
    "# Kebler16b\n",
    "Technical Report, 4 March 2023\n",
    "\n",
    "This version:  \n",
    "&nbsp;&nbsp;&nbsp;&nbsp;https://github.com/melaasar/kepler\n",
    "\n",
    "Issue Tracking:  \n",
    "&nbsp;&nbsp;&nbsp;&nbsp;[GitHub](https://github.com/melaasar/kepler)\n",
    "    \n",
    "Editor:  \n",
    "&nbsp;&nbsp;&nbsp;&nbsp;[Maged Elaasar](https://www.opencaesar.io/contributors/Maged%20Elaasar.html)\n",
    "\n",
    "Copyright © 2023 Maged Elaasar.\n",
    "\n",
    "---"
   ]
  },
  {
   "attachments": {},
   "cell_type": "markdown",
   "metadata": {},
   "source": [
    "## 1.  Objectives\n",
    "\n",
    "The following are the objectives of the Kepler13b project:"
   ]
  },
  {
   "cell_type": "code",
   "execution_count": null,
   "metadata": {},
   "outputs": [
    {
     "data": {
      "text/html": [
       "<div class=\"krn-spql\"><div class=\"magic\">Endpoint set to: http://localhost:3030/kepler16b/sparql</div><div class=\"magic\">Display: table<br/>Show Types: on</div></div>"
      ],
      "text/plain": [
       "Endpoint set to: http://localhost:3030/kepler16b/sparql\n",
       "Display: table\n",
       "Show Types: on\n"
      ]
     },
     "metadata": {},
     "output_type": "display_data"
    },
    {
     "data": {
      "text/html": [
       "<div class=\"krn-spql\"><table><tr class=hdr><th>o_id</th><th>type</th>\n",
       "<th>o_name</th><th>type</th></tr><tr class=odd><td class=val>O.01</td><td class=typ>literal, none</td>\n",
       "<td class=val>Characterize the atmosphere of Kepler 16b</td><td class=typ>literal, none</td></tr><tr class=even><td class=val>O.02</td><td class=typ>literal, none</td>\n",
       "<td class=val>Characterize the liquid ocean of Kepler 16b</td><td class=typ>literal, none</td></tr><tr class=odd><td class=val>O.03</td><td class=typ>literal, none</td>\n",
       "<td class=val>Characterize the gravitational field of Kepler 16b</td><td class=typ>literal, none</td></tr><tr class=even><td class=val>O.04</td><td class=typ>literal, none</td>\n",
       "<td class=val>Characterize the rocky core of Kepler 16b</td><td class=typ>literal, none</td></tr><tr class=odd><td class=val>O.05</td><td class=typ>literal, none</td>\n",
       "<td class=val>Characterize the core density of Kepler 16b</td><td class=typ>literal, none</td></tr><tr class=even><td class=val>O.06</td><td class=typ>literal, none</td>\n",
       "<td class=val>Characterize the core shape of Kepler 16b</td><td class=typ>literal, none</td></tr><tr class=odd><td class=val>O.07</td><td class=typ>literal, none</td>\n",
       "<td class=val>Characterize the energetic particule environment of the Kepler 16b binary star system</td><td class=typ>literal, none</td></tr></table><div class=\"tinfo\">Total: 7, Shown: 7</div></div>"
      ]
     },
     "metadata": {},
     "output_type": "display_data"
    }
   ],
   "source": [
    "%endpoint http://localhost:3030/kepler16b/sparql\n",
    "%display table withTypes\n",
    "\n",
    "PREFIX base:        <http://example.com/vocabulary/base#>\n",
    "PREFIX mission:     <http://example.com/vocabulary/mission#>\n",
    "\n",
    "SELECT DISTINCT ?o_id ?o_name\n",
    "\n",
    "WHERE {\n",
    "\t?obj a mission:Objective ;\n",
    "\t     base:hasIdentifier ?o_id ;\n",
    "\t     base:hasCanonicalName ?o_name .\n",
    "}\n",
    "ORDER BY ?o_id\n"
   ]
  },
  {
   "cell_type": "code",
   "execution_count": null,
   "metadata": {},
   "outputs": [],
   "source": [
    "import matplotlib.pyplot as plt\n",
    "import networkx as nx\n",
    "\n",
    "def get_or_create_node(id, name, nodes, node_dict):\n",
    "    node = node_dict.get(id)\n",
    "    if not node:\n",
    "        node = {\n",
    "            'id': id,\n",
    "            'name': name\n",
    "        }\n",
    "        nodes.append(node)\n",
    "        node_dict[id] = node\n",
    "    return node\n",
    "\n",
    "\n",
    "def to_graph_data(data):\n",
    "    graph = {}\n",
    "    nodes = graph['nodes'] = []\n",
    "    links = graph['links'] = []\n",
    "    id_to_node = {}\n",
    "    columns = data['head']['vars']\n",
    "    for item in data['results']['bindings']:\n",
    "        src_id = item[columns[0]]['value']\n",
    "        trgt_id = item[columns[1]]['value']\n",
    "        src = get_or_create_node(src_id, src_id, nodes, id_to_node)\n",
    "        trgt = get_or_create_node(trgt_id, trgt_id, nodes, id_to_node)\n",
    "        link = {\n",
    "            'source': src['id'],\n",
    "            'target': trgt['id']\n",
    "        }\n",
    "        links.append(link)\n",
    "    return graph\n",
    "\n",
    "\n",
    "def draw_graph(data, width=500, height=300):\n",
    "    graph = to_graph_data(data)\n",
    "    nodes = graph['nodes']\n",
    "    links = graph['links']\n",
    "\n",
    "    # Create a NetworkX graph object\n",
    "    G = nx.Graph()\n",
    "    for link in links:\n",
    "        G.add_edge(link['source'], link['target'])\n",
    "\n",
    "    # Draw the graph using Matplotlib\n",
    "    pos = nx.spring_layout(G, seed=42)\n",
    "    plt.figure(figsize=(width/100, height/100))\n",
    "    nx.draw_networkx(G, pos, node_color='red', node_size=100, edge_color='#999', arrows=True, arrowsize=10)\n",
    "    plt.axis('off')\n",
    "    plt.show()\n"
   ]
  }
 ],
 "metadata": {
  "kernelspec": {
   "display_name": "Python 3",
   "language": "python",
   "name": "python3"
  },
  "language_info": {
   "codemirror_mode": {
    "name": "ipython",
    "version": 3
   },
   "file_extension": ".py",
   "mimetype": "text/x-python",
   "name": "python",
   "nbconvert_exporter": "python",
   "pygments_lexer": "ipython3",
   "version": "3.11.4"
  },
  "orig_nbformat": 4
 },
 "nbformat": 4,
 "nbformat_minor": 2
}
